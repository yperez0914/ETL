{
 "cells": [
  {
   "cell_type": "code",
   "execution_count": 1,
   "metadata": {},
   "outputs": [],
   "source": [
    "import pandas as pd\n"
   ]
  },
  {
   "cell_type": "code",
   "execution_count": 3,
   "metadata": {},
   "outputs": [
    {
     "output_type": "execute_result",
     "data": {
      "text/plain": [
       "      year                              title               published_at  \\\n",
       "0     2019  62nd Annual GRAMMY Awards  (2019)  2020-05-19T05:10:28-07:00   \n",
       "1     2019  62nd Annual GRAMMY Awards  (2019)  2020-05-19T05:10:28-07:00   \n",
       "2     2019  62nd Annual GRAMMY Awards  (2019)  2020-05-19T05:10:28-07:00   \n",
       "3     2019  62nd Annual GRAMMY Awards  (2019)  2020-05-19T05:10:28-07:00   \n",
       "4     2019  62nd Annual GRAMMY Awards  (2019)  2020-05-19T05:10:28-07:00   \n",
       "...    ...                                ...                        ...   \n",
       "4805  1958   1st Annual GRAMMY Awards  (1958)  2017-11-28T00:03:45-08:00   \n",
       "4806  1958   1st Annual GRAMMY Awards  (1958)  2017-11-28T00:03:45-08:00   \n",
       "4807  1958   1st Annual GRAMMY Awards  (1958)  2017-11-28T00:03:45-08:00   \n",
       "4808  1958   1st Annual GRAMMY Awards  (1958)  2017-11-28T00:03:45-08:00   \n",
       "4809  1958   1st Annual GRAMMY Awards  (1958)  2017-11-28T00:03:45-08:00   \n",
       "\n",
       "                     updated_at  \\\n",
       "0     2020-05-19T05:10:28-07:00   \n",
       "1     2020-05-19T05:10:28-07:00   \n",
       "2     2020-05-19T05:10:28-07:00   \n",
       "3     2020-05-19T05:10:28-07:00   \n",
       "4     2020-05-19T05:10:28-07:00   \n",
       "...                         ...   \n",
       "4805  2019-09-10T01:11:09-07:00   \n",
       "4806  2019-09-10T01:11:09-07:00   \n",
       "4807  2019-09-10T01:11:09-07:00   \n",
       "4808  2019-09-10T01:11:09-07:00   \n",
       "4809  2019-09-10T01:11:09-07:00   \n",
       "\n",
       "                                               category  \\\n",
       "0                                    Record Of The Year   \n",
       "1                                    Record Of The Year   \n",
       "2                                    Record Of The Year   \n",
       "3                                    Record Of The Year   \n",
       "4                                    Record Of The Year   \n",
       "...                                                 ...   \n",
       "4805  Best Classical Performance - Instrumentalist (...   \n",
       "4806  Best Classical Performance - Instrumentalist (...   \n",
       "4807  Best Classical Performance - Chamber Music (In...   \n",
       "4808  Best Classical Performance - Vocal Soloist (Wi...   \n",
       "4809    Best Classical Performance - Operatic Or Choral   \n",
       "\n",
       "                                                nominee         artist  \\\n",
       "0                                               Bad Guy  Billie Eilish   \n",
       "1                                               Hey, Ma       Bon Iver   \n",
       "2                                               7 rings  Ariana Grande   \n",
       "3                                            Hard Place         H.E.R.   \n",
       "4                                                  Talk         Khalid   \n",
       "...                                                 ...            ...   \n",
       "4805  Tchaikovsky: Piano Concerto No. 1 In B Flat Mi...            NaN   \n",
       "4806                             Segovia Golden Jubilee            NaN   \n",
       "4807                             Beethoven: Quartet 130            NaN   \n",
       "4808                                   Operatic Recital            NaN   \n",
       "4809                                           Virtuoso            NaN   \n",
       "\n",
       "                                                workers  \\\n",
       "0     Finneas O'Connell, producer; Rob Kinelski & Fi...   \n",
       "1     BJ Burton, Brad Cook, Chris Messina & Justin V...   \n",
       "2     Charles Anderson, Tommy Brown, Michael Foster ...   \n",
       "3     Rodney “Darkchild” Jerkins, producer; Joseph H...   \n",
       "4     Disclosure & Denis Kosiak, producers; Ingmar C...   \n",
       "...                                                 ...   \n",
       "4805  Van Cliburn, artist (Symphony Of The Air Orche...   \n",
       "4806                             Andres Segovia, artist   \n",
       "4807  Hollywood String Quartet (Alvin Dinkin, Paul S...   \n",
       "4808                                                NaN   \n",
       "4809                       Roger Wagner, choir director   \n",
       "\n",
       "                                                    img  winner  \n",
       "0     https://www.grammy.com/sites/com/files/styles/...    True  \n",
       "1     https://www.grammy.com/sites/com/files/styles/...    True  \n",
       "2     https://www.grammy.com/sites/com/files/styles/...    True  \n",
       "3     https://www.grammy.com/sites/com/files/styles/...    True  \n",
       "4     https://www.grammy.com/sites/com/files/styles/...    True  \n",
       "...                                                 ...     ...  \n",
       "4805                                                NaN    True  \n",
       "4806  https://www.grammy.com/sites/com/files/styles/...    True  \n",
       "4807                                                NaN    True  \n",
       "4808                                                NaN    True  \n",
       "4809                                                NaN    True  \n",
       "\n",
       "[4810 rows x 10 columns]"
      ],
      "text/html": "<div>\n<style scoped>\n    .dataframe tbody tr th:only-of-type {\n        vertical-align: middle;\n    }\n\n    .dataframe tbody tr th {\n        vertical-align: top;\n    }\n\n    .dataframe thead th {\n        text-align: right;\n    }\n</style>\n<table border=\"1\" class=\"dataframe\">\n  <thead>\n    <tr style=\"text-align: right;\">\n      <th></th>\n      <th>year</th>\n      <th>title</th>\n      <th>published_at</th>\n      <th>updated_at</th>\n      <th>category</th>\n      <th>nominee</th>\n      <th>artist</th>\n      <th>workers</th>\n      <th>img</th>\n      <th>winner</th>\n    </tr>\n  </thead>\n  <tbody>\n    <tr>\n      <th>0</th>\n      <td>2019</td>\n      <td>62nd Annual GRAMMY Awards  (2019)</td>\n      <td>2020-05-19T05:10:28-07:00</td>\n      <td>2020-05-19T05:10:28-07:00</td>\n      <td>Record Of The Year</td>\n      <td>Bad Guy</td>\n      <td>Billie Eilish</td>\n      <td>Finneas O'Connell, producer; Rob Kinelski &amp; Fi...</td>\n      <td>https://www.grammy.com/sites/com/files/styles/...</td>\n      <td>True</td>\n    </tr>\n    <tr>\n      <th>1</th>\n      <td>2019</td>\n      <td>62nd Annual GRAMMY Awards  (2019)</td>\n      <td>2020-05-19T05:10:28-07:00</td>\n      <td>2020-05-19T05:10:28-07:00</td>\n      <td>Record Of The Year</td>\n      <td>Hey, Ma</td>\n      <td>Bon Iver</td>\n      <td>BJ Burton, Brad Cook, Chris Messina &amp; Justin V...</td>\n      <td>https://www.grammy.com/sites/com/files/styles/...</td>\n      <td>True</td>\n    </tr>\n    <tr>\n      <th>2</th>\n      <td>2019</td>\n      <td>62nd Annual GRAMMY Awards  (2019)</td>\n      <td>2020-05-19T05:10:28-07:00</td>\n      <td>2020-05-19T05:10:28-07:00</td>\n      <td>Record Of The Year</td>\n      <td>7 rings</td>\n      <td>Ariana Grande</td>\n      <td>Charles Anderson, Tommy Brown, Michael Foster ...</td>\n      <td>https://www.grammy.com/sites/com/files/styles/...</td>\n      <td>True</td>\n    </tr>\n    <tr>\n      <th>3</th>\n      <td>2019</td>\n      <td>62nd Annual GRAMMY Awards  (2019)</td>\n      <td>2020-05-19T05:10:28-07:00</td>\n      <td>2020-05-19T05:10:28-07:00</td>\n      <td>Record Of The Year</td>\n      <td>Hard Place</td>\n      <td>H.E.R.</td>\n      <td>Rodney “Darkchild” Jerkins, producer; Joseph H...</td>\n      <td>https://www.grammy.com/sites/com/files/styles/...</td>\n      <td>True</td>\n    </tr>\n    <tr>\n      <th>4</th>\n      <td>2019</td>\n      <td>62nd Annual GRAMMY Awards  (2019)</td>\n      <td>2020-05-19T05:10:28-07:00</td>\n      <td>2020-05-19T05:10:28-07:00</td>\n      <td>Record Of The Year</td>\n      <td>Talk</td>\n      <td>Khalid</td>\n      <td>Disclosure &amp; Denis Kosiak, producers; Ingmar C...</td>\n      <td>https://www.grammy.com/sites/com/files/styles/...</td>\n      <td>True</td>\n    </tr>\n    <tr>\n      <th>...</th>\n      <td>...</td>\n      <td>...</td>\n      <td>...</td>\n      <td>...</td>\n      <td>...</td>\n      <td>...</td>\n      <td>...</td>\n      <td>...</td>\n      <td>...</td>\n      <td>...</td>\n    </tr>\n    <tr>\n      <th>4805</th>\n      <td>1958</td>\n      <td>1st Annual GRAMMY Awards  (1958)</td>\n      <td>2017-11-28T00:03:45-08:00</td>\n      <td>2019-09-10T01:11:09-07:00</td>\n      <td>Best Classical Performance - Instrumentalist (...</td>\n      <td>Tchaikovsky: Piano Concerto No. 1 In B Flat Mi...</td>\n      <td>NaN</td>\n      <td>Van Cliburn, artist (Symphony Of The Air Orche...</td>\n      <td>NaN</td>\n      <td>True</td>\n    </tr>\n    <tr>\n      <th>4806</th>\n      <td>1958</td>\n      <td>1st Annual GRAMMY Awards  (1958)</td>\n      <td>2017-11-28T00:03:45-08:00</td>\n      <td>2019-09-10T01:11:09-07:00</td>\n      <td>Best Classical Performance - Instrumentalist (...</td>\n      <td>Segovia Golden Jubilee</td>\n      <td>NaN</td>\n      <td>Andres Segovia, artist</td>\n      <td>https://www.grammy.com/sites/com/files/styles/...</td>\n      <td>True</td>\n    </tr>\n    <tr>\n      <th>4807</th>\n      <td>1958</td>\n      <td>1st Annual GRAMMY Awards  (1958)</td>\n      <td>2017-11-28T00:03:45-08:00</td>\n      <td>2019-09-10T01:11:09-07:00</td>\n      <td>Best Classical Performance - Chamber Music (In...</td>\n      <td>Beethoven: Quartet 130</td>\n      <td>NaN</td>\n      <td>Hollywood String Quartet (Alvin Dinkin, Paul S...</td>\n      <td>NaN</td>\n      <td>True</td>\n    </tr>\n    <tr>\n      <th>4808</th>\n      <td>1958</td>\n      <td>1st Annual GRAMMY Awards  (1958)</td>\n      <td>2017-11-28T00:03:45-08:00</td>\n      <td>2019-09-10T01:11:09-07:00</td>\n      <td>Best Classical Performance - Vocal Soloist (Wi...</td>\n      <td>Operatic Recital</td>\n      <td>NaN</td>\n      <td>NaN</td>\n      <td>NaN</td>\n      <td>True</td>\n    </tr>\n    <tr>\n      <th>4809</th>\n      <td>1958</td>\n      <td>1st Annual GRAMMY Awards  (1958)</td>\n      <td>2017-11-28T00:03:45-08:00</td>\n      <td>2019-09-10T01:11:09-07:00</td>\n      <td>Best Classical Performance - Operatic Or Choral</td>\n      <td>Virtuoso</td>\n      <td>NaN</td>\n      <td>Roger Wagner, choir director</td>\n      <td>NaN</td>\n      <td>True</td>\n    </tr>\n  </tbody>\n</table>\n<p>4810 rows × 10 columns</p>\n</div>"
     },
     "metadata": {},
     "execution_count": 3
    }
   ],
   "source": [
    "grammies = pd.read_csv(r\"C:\\Users\\jekor\\Desktop\\ETL\\the_grammy_awards.csv\")\n",
    "grammies"
   ]
  },
  {
   "cell_type": "code",
   "execution_count": 4,
   "metadata": {
    "scrolled": true
   },
   "outputs": [],
   "source": [
    "grammy = grammies.drop(columns= [\"title\", \"updated_at\", \"published_at\", \"img\",\"winner\"])"
   ]
  },
  {
   "cell_type": "code",
   "execution_count": 5,
   "metadata": {},
   "outputs": [],
   "source": [
    "grammy[\"song_artist\"] = grammies[\"nominee\"] +\" \"+ grammies[\"artist\"]"
   ]
  },
  {
   "cell_type": "code",
   "execution_count": 49,
   "metadata": {},
   "outputs": [
    {
     "output_type": "execute_result",
     "data": {
      "text/plain": [
       "      year                                           category  \\\n",
       "0     2019                                 Record Of The Year   \n",
       "1     2019                                 Record Of The Year   \n",
       "2     2019                                 Record Of The Year   \n",
       "3     2019                                 Record Of The Year   \n",
       "4     2019                                 Record Of The Year   \n",
       "...    ...                                                ...   \n",
       "4805  1958  Best Classical Performance - Instrumentalist (...   \n",
       "4806  1958  Best Classical Performance - Instrumentalist (...   \n",
       "4807  1958  Best Classical Performance - Chamber Music (In...   \n",
       "4808  1958  Best Classical Performance - Vocal Soloist (Wi...   \n",
       "4809  1958    Best Classical Performance - Operatic Or Choral   \n",
       "\n",
       "                                                nominee         artist  \\\n",
       "0                                               Bad Guy  Billie Eilish   \n",
       "1                                               Hey, Ma       Bon Iver   \n",
       "2                                               7 rings  Ariana Grande   \n",
       "3                                            Hard Place         H.E.R.   \n",
       "4                                                  Talk         Khalid   \n",
       "...                                                 ...            ...   \n",
       "4805  Tchaikovsky: Piano Concerto No. 1 In B Flat Mi...            NaN   \n",
       "4806                             Segovia Golden Jubilee            NaN   \n",
       "4807                             Beethoven: Quartet 130            NaN   \n",
       "4808                                   Operatic Recital            NaN   \n",
       "4809                                           Virtuoso            NaN   \n",
       "\n",
       "                                                workers            song_artist  \n",
       "0     Finneas O'Connell, producer; Rob Kinelski & Fi...  Bad Guy Billie Eilish  \n",
       "1     BJ Burton, Brad Cook, Chris Messina & Justin V...       Hey, Ma Bon Iver  \n",
       "2     Charles Anderson, Tommy Brown, Michael Foster ...  7 rings Ariana Grande  \n",
       "3     Rodney “Darkchild” Jerkins, producer; Joseph H...      Hard Place H.E.R.  \n",
       "4     Disclosure & Denis Kosiak, producers; Ingmar C...            Talk Khalid  \n",
       "...                                                 ...                    ...  \n",
       "4805  Van Cliburn, artist (Symphony Of The Air Orche...                    NaN  \n",
       "4806                             Andres Segovia, artist                    NaN  \n",
       "4807  Hollywood String Quartet (Alvin Dinkin, Paul S...                    NaN  \n",
       "4808                                                NaN                    NaN  \n",
       "4809                       Roger Wagner, choir director                    NaN  \n",
       "\n",
       "[4810 rows x 6 columns]"
      ],
      "text/html": "<div>\n<style scoped>\n    .dataframe tbody tr th:only-of-type {\n        vertical-align: middle;\n    }\n\n    .dataframe tbody tr th {\n        vertical-align: top;\n    }\n\n    .dataframe thead th {\n        text-align: right;\n    }\n</style>\n<table border=\"1\" class=\"dataframe\">\n  <thead>\n    <tr style=\"text-align: right;\">\n      <th></th>\n      <th>year</th>\n      <th>category</th>\n      <th>nominee</th>\n      <th>artist</th>\n      <th>workers</th>\n      <th>song_artist</th>\n    </tr>\n  </thead>\n  <tbody>\n    <tr>\n      <th>0</th>\n      <td>2019</td>\n      <td>Record Of The Year</td>\n      <td>Bad Guy</td>\n      <td>Billie Eilish</td>\n      <td>Finneas O'Connell, producer; Rob Kinelski &amp; Fi...</td>\n      <td>Bad Guy Billie Eilish</td>\n    </tr>\n    <tr>\n      <th>1</th>\n      <td>2019</td>\n      <td>Record Of The Year</td>\n      <td>Hey, Ma</td>\n      <td>Bon Iver</td>\n      <td>BJ Burton, Brad Cook, Chris Messina &amp; Justin V...</td>\n      <td>Hey, Ma Bon Iver</td>\n    </tr>\n    <tr>\n      <th>2</th>\n      <td>2019</td>\n      <td>Record Of The Year</td>\n      <td>7 rings</td>\n      <td>Ariana Grande</td>\n      <td>Charles Anderson, Tommy Brown, Michael Foster ...</td>\n      <td>7 rings Ariana Grande</td>\n    </tr>\n    <tr>\n      <th>3</th>\n      <td>2019</td>\n      <td>Record Of The Year</td>\n      <td>Hard Place</td>\n      <td>H.E.R.</td>\n      <td>Rodney “Darkchild” Jerkins, producer; Joseph H...</td>\n      <td>Hard Place H.E.R.</td>\n    </tr>\n    <tr>\n      <th>4</th>\n      <td>2019</td>\n      <td>Record Of The Year</td>\n      <td>Talk</td>\n      <td>Khalid</td>\n      <td>Disclosure &amp; Denis Kosiak, producers; Ingmar C...</td>\n      <td>Talk Khalid</td>\n    </tr>\n    <tr>\n      <th>...</th>\n      <td>...</td>\n      <td>...</td>\n      <td>...</td>\n      <td>...</td>\n      <td>...</td>\n      <td>...</td>\n    </tr>\n    <tr>\n      <th>4805</th>\n      <td>1958</td>\n      <td>Best Classical Performance - Instrumentalist (...</td>\n      <td>Tchaikovsky: Piano Concerto No. 1 In B Flat Mi...</td>\n      <td>NaN</td>\n      <td>Van Cliburn, artist (Symphony Of The Air Orche...</td>\n      <td>NaN</td>\n    </tr>\n    <tr>\n      <th>4806</th>\n      <td>1958</td>\n      <td>Best Classical Performance - Instrumentalist (...</td>\n      <td>Segovia Golden Jubilee</td>\n      <td>NaN</td>\n      <td>Andres Segovia, artist</td>\n      <td>NaN</td>\n    </tr>\n    <tr>\n      <th>4807</th>\n      <td>1958</td>\n      <td>Best Classical Performance - Chamber Music (In...</td>\n      <td>Beethoven: Quartet 130</td>\n      <td>NaN</td>\n      <td>Hollywood String Quartet (Alvin Dinkin, Paul S...</td>\n      <td>NaN</td>\n    </tr>\n    <tr>\n      <th>4808</th>\n      <td>1958</td>\n      <td>Best Classical Performance - Vocal Soloist (Wi...</td>\n      <td>Operatic Recital</td>\n      <td>NaN</td>\n      <td>NaN</td>\n      <td>NaN</td>\n    </tr>\n    <tr>\n      <th>4809</th>\n      <td>1958</td>\n      <td>Best Classical Performance - Operatic Or Choral</td>\n      <td>Virtuoso</td>\n      <td>NaN</td>\n      <td>Roger Wagner, choir director</td>\n      <td>NaN</td>\n    </tr>\n  </tbody>\n</table>\n<p>4810 rows × 6 columns</p>\n</div>"
     },
     "metadata": {},
     "execution_count": 49
    }
   ],
   "source": [
    "grammy"
   ]
  },
  {
   "cell_type": "code",
   "execution_count": 6,
   "metadata": {},
   "outputs": [],
   "source": [
    "from sqlalchemy import create_engine\n",
    "from config import postgres_credentials as creds\n"
   ]
  },
  {
   "cell_type": "code",
   "execution_count": 13,
   "metadata": {},
   "outputs": [],
   "source": [
    "rds_connection_string = f'postgres:{creds[\"password\"]}@localhost:5432/etlproject'\n",
    "engine = create_engine(f'postgresql://{rds_connection_string}')\n"
   ]
  },
  {
   "cell_type": "code",
   "execution_count": 14,
   "metadata": {},
   "outputs": [
    {
     "output_type": "execute_result",
     "data": {
      "text/plain": [
       "   id                 title      artist        top_genre  year  bpm  nrgy  \\\n",
       "0   1      Hey, Soul Sister       Train       neo mellow  2010   97    89   \n",
       "1   2  Love The Way You Lie      Eminem  detroit hip hop  2010   87    93   \n",
       "2   3               TiK ToK       Kesha        dance pop  2010  120    84   \n",
       "3   4           Bad Romance   Lady Gaga        dance pop  2010  119    92   \n",
       "4   5  Just the Way You Are  Bruno Mars              pop  2010  109    84   \n",
       "\n",
       "   dnce  db  live  val  dur  acous  spch  pop                      song_artist  \n",
       "0    67  -4     8   80  217     19     4   83           Hey, Soul Sister Train  \n",
       "1    75  -5    52   64  263     24    23   82      Love The Way You Lie Eminem  \n",
       "2    76  -3    29   71  200     10    14   80                    TiK ToK Kesha  \n",
       "3    70  -4     8   71  295      0     4   79            Bad Romance Lady Gaga  \n",
       "4    64  -5     9   43  221      2     4   78  Just the Way You Are Bruno Mars  "
      ],
      "text/html": "<div>\n<style scoped>\n    .dataframe tbody tr th:only-of-type {\n        vertical-align: middle;\n    }\n\n    .dataframe tbody tr th {\n        vertical-align: top;\n    }\n\n    .dataframe thead th {\n        text-align: right;\n    }\n</style>\n<table border=\"1\" class=\"dataframe\">\n  <thead>\n    <tr style=\"text-align: right;\">\n      <th></th>\n      <th>id</th>\n      <th>title</th>\n      <th>artist</th>\n      <th>top_genre</th>\n      <th>year</th>\n      <th>bpm</th>\n      <th>nrgy</th>\n      <th>dnce</th>\n      <th>db</th>\n      <th>live</th>\n      <th>val</th>\n      <th>dur</th>\n      <th>acous</th>\n      <th>spch</th>\n      <th>pop</th>\n      <th>song_artist</th>\n    </tr>\n  </thead>\n  <tbody>\n    <tr>\n      <th>0</th>\n      <td>1</td>\n      <td>Hey, Soul Sister</td>\n      <td>Train</td>\n      <td>neo mellow</td>\n      <td>2010</td>\n      <td>97</td>\n      <td>89</td>\n      <td>67</td>\n      <td>-4</td>\n      <td>8</td>\n      <td>80</td>\n      <td>217</td>\n      <td>19</td>\n      <td>4</td>\n      <td>83</td>\n      <td>Hey, Soul Sister Train</td>\n    </tr>\n    <tr>\n      <th>1</th>\n      <td>2</td>\n      <td>Love The Way You Lie</td>\n      <td>Eminem</td>\n      <td>detroit hip hop</td>\n      <td>2010</td>\n      <td>87</td>\n      <td>93</td>\n      <td>75</td>\n      <td>-5</td>\n      <td>52</td>\n      <td>64</td>\n      <td>263</td>\n      <td>24</td>\n      <td>23</td>\n      <td>82</td>\n      <td>Love The Way You Lie Eminem</td>\n    </tr>\n    <tr>\n      <th>2</th>\n      <td>3</td>\n      <td>TiK ToK</td>\n      <td>Kesha</td>\n      <td>dance pop</td>\n      <td>2010</td>\n      <td>120</td>\n      <td>84</td>\n      <td>76</td>\n      <td>-3</td>\n      <td>29</td>\n      <td>71</td>\n      <td>200</td>\n      <td>10</td>\n      <td>14</td>\n      <td>80</td>\n      <td>TiK ToK Kesha</td>\n    </tr>\n    <tr>\n      <th>3</th>\n      <td>4</td>\n      <td>Bad Romance</td>\n      <td>Lady Gaga</td>\n      <td>dance pop</td>\n      <td>2010</td>\n      <td>119</td>\n      <td>92</td>\n      <td>70</td>\n      <td>-4</td>\n      <td>8</td>\n      <td>71</td>\n      <td>295</td>\n      <td>0</td>\n      <td>4</td>\n      <td>79</td>\n      <td>Bad Romance Lady Gaga</td>\n    </tr>\n    <tr>\n      <th>4</th>\n      <td>5</td>\n      <td>Just the Way You Are</td>\n      <td>Bruno Mars</td>\n      <td>pop</td>\n      <td>2010</td>\n      <td>109</td>\n      <td>84</td>\n      <td>64</td>\n      <td>-5</td>\n      <td>9</td>\n      <td>43</td>\n      <td>221</td>\n      <td>2</td>\n      <td>4</td>\n      <td>78</td>\n      <td>Just the Way You Are Bruno Mars</td>\n    </tr>\n  </tbody>\n</table>\n</div>"
     },
     "metadata": {},
     "execution_count": 14
    }
   ],
   "source": [
    "spotify_df = pd.read_sql_table('spotify',engine)\n",
    "spotify_df.head()"
   ]
  },
  {
   "cell_type": "code",
   "execution_count": 17,
   "metadata": {},
   "outputs": [
    {
     "output_type": "execute_result",
     "data": {
      "text/plain": [
       "   year            category     nominee         artist  \\\n",
       "0  2019  Record Of The Year     Bad Guy  Billie Eilish   \n",
       "1  2019  Record Of The Year     Hey, Ma       Bon Iver   \n",
       "2  2019  Record Of The Year     7 rings  Ariana Grande   \n",
       "3  2019  Record Of The Year  Hard Place         H.E.R.   \n",
       "4  2019  Record Of The Year        Talk         Khalid   \n",
       "\n",
       "                                             workers            song_artist  \n",
       "0  Finneas O'Connell, producer; Rob Kinelski & Fi...  bad guy billie eilish  \n",
       "1  BJ Burton, Brad Cook, Chris Messina & Justin V...       hey, ma bon iver  \n",
       "2  Charles Anderson, Tommy Brown, Michael Foster ...  7 rings ariana grande  \n",
       "3  Rodney “Darkchild” Jerkins, producer; Joseph H...      hard place h.e.r.  \n",
       "4  Disclosure & Denis Kosiak, producers; Ingmar C...            talk khalid  "
      ],
      "text/html": "<div>\n<style scoped>\n    .dataframe tbody tr th:only-of-type {\n        vertical-align: middle;\n    }\n\n    .dataframe tbody tr th {\n        vertical-align: top;\n    }\n\n    .dataframe thead th {\n        text-align: right;\n    }\n</style>\n<table border=\"1\" class=\"dataframe\">\n  <thead>\n    <tr style=\"text-align: right;\">\n      <th></th>\n      <th>year</th>\n      <th>category</th>\n      <th>nominee</th>\n      <th>artist</th>\n      <th>workers</th>\n      <th>song_artist</th>\n    </tr>\n  </thead>\n  <tbody>\n    <tr>\n      <th>0</th>\n      <td>2019</td>\n      <td>Record Of The Year</td>\n      <td>Bad Guy</td>\n      <td>Billie Eilish</td>\n      <td>Finneas O'Connell, producer; Rob Kinelski &amp; Fi...</td>\n      <td>bad guy billie eilish</td>\n    </tr>\n    <tr>\n      <th>1</th>\n      <td>2019</td>\n      <td>Record Of The Year</td>\n      <td>Hey, Ma</td>\n      <td>Bon Iver</td>\n      <td>BJ Burton, Brad Cook, Chris Messina &amp; Justin V...</td>\n      <td>hey, ma bon iver</td>\n    </tr>\n    <tr>\n      <th>2</th>\n      <td>2019</td>\n      <td>Record Of The Year</td>\n      <td>7 rings</td>\n      <td>Ariana Grande</td>\n      <td>Charles Anderson, Tommy Brown, Michael Foster ...</td>\n      <td>7 rings ariana grande</td>\n    </tr>\n    <tr>\n      <th>3</th>\n      <td>2019</td>\n      <td>Record Of The Year</td>\n      <td>Hard Place</td>\n      <td>H.E.R.</td>\n      <td>Rodney “Darkchild” Jerkins, producer; Joseph H...</td>\n      <td>hard place h.e.r.</td>\n    </tr>\n    <tr>\n      <th>4</th>\n      <td>2019</td>\n      <td>Record Of The Year</td>\n      <td>Talk</td>\n      <td>Khalid</td>\n      <td>Disclosure &amp; Denis Kosiak, producers; Ingmar C...</td>\n      <td>talk khalid</td>\n    </tr>\n  </tbody>\n</table>\n</div>"
     },
     "metadata": {},
     "execution_count": 17
    }
   ],
   "source": [
    "grammy[\"song_artist\"]= grammy[\"song_artist\"].str.lower()\n",
    "grammy.head()"
   ]
  },
  {
   "cell_type": "code",
   "execution_count": 18,
   "metadata": {},
   "outputs": [
    {
     "output_type": "execute_result",
     "data": {
      "text/plain": [
       "   id                 title      artist        top_genre  year  bpm  nrgy  \\\n",
       "0   1      Hey, Soul Sister       Train       neo mellow  2010   97    89   \n",
       "1   2  Love The Way You Lie      Eminem  detroit hip hop  2010   87    93   \n",
       "2   3               TiK ToK       Kesha        dance pop  2010  120    84   \n",
       "3   4           Bad Romance   Lady Gaga        dance pop  2010  119    92   \n",
       "4   5  Just the Way You Are  Bruno Mars              pop  2010  109    84   \n",
       "\n",
       "   dnce  db  live  val  dur  acous  spch  pop                      song_artist  \n",
       "0    67  -4     8   80  217     19     4   83           hey, soul sister train  \n",
       "1    75  -5    52   64  263     24    23   82      love the way you lie eminem  \n",
       "2    76  -3    29   71  200     10    14   80                    tik tok kesha  \n",
       "3    70  -4     8   71  295      0     4   79            bad romance lady gaga  \n",
       "4    64  -5     9   43  221      2     4   78  just the way you are bruno mars  "
      ],
      "text/html": "<div>\n<style scoped>\n    .dataframe tbody tr th:only-of-type {\n        vertical-align: middle;\n    }\n\n    .dataframe tbody tr th {\n        vertical-align: top;\n    }\n\n    .dataframe thead th {\n        text-align: right;\n    }\n</style>\n<table border=\"1\" class=\"dataframe\">\n  <thead>\n    <tr style=\"text-align: right;\">\n      <th></th>\n      <th>id</th>\n      <th>title</th>\n      <th>artist</th>\n      <th>top_genre</th>\n      <th>year</th>\n      <th>bpm</th>\n      <th>nrgy</th>\n      <th>dnce</th>\n      <th>db</th>\n      <th>live</th>\n      <th>val</th>\n      <th>dur</th>\n      <th>acous</th>\n      <th>spch</th>\n      <th>pop</th>\n      <th>song_artist</th>\n    </tr>\n  </thead>\n  <tbody>\n    <tr>\n      <th>0</th>\n      <td>1</td>\n      <td>Hey, Soul Sister</td>\n      <td>Train</td>\n      <td>neo mellow</td>\n      <td>2010</td>\n      <td>97</td>\n      <td>89</td>\n      <td>67</td>\n      <td>-4</td>\n      <td>8</td>\n      <td>80</td>\n      <td>217</td>\n      <td>19</td>\n      <td>4</td>\n      <td>83</td>\n      <td>hey, soul sister train</td>\n    </tr>\n    <tr>\n      <th>1</th>\n      <td>2</td>\n      <td>Love The Way You Lie</td>\n      <td>Eminem</td>\n      <td>detroit hip hop</td>\n      <td>2010</td>\n      <td>87</td>\n      <td>93</td>\n      <td>75</td>\n      <td>-5</td>\n      <td>52</td>\n      <td>64</td>\n      <td>263</td>\n      <td>24</td>\n      <td>23</td>\n      <td>82</td>\n      <td>love the way you lie eminem</td>\n    </tr>\n    <tr>\n      <th>2</th>\n      <td>3</td>\n      <td>TiK ToK</td>\n      <td>Kesha</td>\n      <td>dance pop</td>\n      <td>2010</td>\n      <td>120</td>\n      <td>84</td>\n      <td>76</td>\n      <td>-3</td>\n      <td>29</td>\n      <td>71</td>\n      <td>200</td>\n      <td>10</td>\n      <td>14</td>\n      <td>80</td>\n      <td>tik tok kesha</td>\n    </tr>\n    <tr>\n      <th>3</th>\n      <td>4</td>\n      <td>Bad Romance</td>\n      <td>Lady Gaga</td>\n      <td>dance pop</td>\n      <td>2010</td>\n      <td>119</td>\n      <td>92</td>\n      <td>70</td>\n      <td>-4</td>\n      <td>8</td>\n      <td>71</td>\n      <td>295</td>\n      <td>0</td>\n      <td>4</td>\n      <td>79</td>\n      <td>bad romance lady gaga</td>\n    </tr>\n    <tr>\n      <th>4</th>\n      <td>5</td>\n      <td>Just the Way You Are</td>\n      <td>Bruno Mars</td>\n      <td>pop</td>\n      <td>2010</td>\n      <td>109</td>\n      <td>84</td>\n      <td>64</td>\n      <td>-5</td>\n      <td>9</td>\n      <td>43</td>\n      <td>221</td>\n      <td>2</td>\n      <td>4</td>\n      <td>78</td>\n      <td>just the way you are bruno mars</td>\n    </tr>\n  </tbody>\n</table>\n</div>"
     },
     "metadata": {},
     "execution_count": 18
    }
   ],
   "source": [
    "spotify_df[\"song_artist\"]= spotify_df[\"song_artist\"].str.lower()\n",
    "spotify_df.head()"
   ]
  },
  {
   "cell_type": "code",
   "execution_count": 29,
   "metadata": {},
   "outputs": [
    {
     "output_type": "execute_result",
     "data": {
      "text/plain": [
       "     id                     title        artist_x                  top_genre  \\\n",
       "0     4               Bad Romance       Lady Gaga                  dance pop   \n",
       "1     4               Bad Romance       Lady Gaga                  dance pop   \n",
       "2     5      Just the Way You Are      Bruno Mars                        pop   \n",
       "3    55      Just the Way You Are      Bruno Mars                        pop   \n",
       "4    10  Only Girl (In The World)         Rihanna              barbadian pop   \n",
       "5    53          Someone Like You           Adele               british soul   \n",
       "6    56       Rolling in the Deep           Adele               british soul   \n",
       "7    56       Rolling in the Deep           Adele               british soul   \n",
       "8    59               Love On Top         Beyoncé                  dance pop   \n",
       "9   269         Thinking out Loud      Ed Sheeran                        pop   \n",
       "10  296                     Hello           Adele               british soul   \n",
       "11  296                     Hello           Adele               british soul   \n",
       "12  444              Shape of You      Ed Sheeran                        pop   \n",
       "13  446                   Starboy      The Weeknd  canadian contemporary r&b   \n",
       "14  448        That's What I Like      Bruno Mars                        pop   \n",
       "15  482                 24K Magic      Bruno Mars                        pop   \n",
       "16  482                 24K Magic      Bruno Mars                        pop   \n",
       "17  482                 24K Magic      Bruno Mars                        pop   \n",
       "18  537                   Tequila      Dan + Shay       contemporary country   \n",
       "19  581               Truth Hurts           Lizzo                escape room   \n",
       "20  581               Truth Hurts           Lizzo                escape room   \n",
       "21  586                    Sucker  Jonas Brothers                   boy band   \n",
       "\n",
       "    year_x  bpm  nrgy  dnce  db  live  ...  dur  acous  spch  pop  \\\n",
       "0     2010  119    92    70  -4     8  ...  295      0     4   79   \n",
       "1     2010  119    92    70  -4     8  ...  295      0     4   79   \n",
       "2     2010  109    84    64  -5     9  ...  221      2     4   78   \n",
       "3     2011  109    84    64  -5     9  ...  221      2     4   78   \n",
       "4     2010  126    72    79  -4     7  ...  235     13     4   73   \n",
       "5     2011  135    33    56  -8    10  ...  285     89     3   80   \n",
       "6     2011  105    76    73  -5     5  ...  228     13     3   76   \n",
       "7     2011  105    76    73  -5     5  ...  228     13     3   76   \n",
       "8     2011   94    75    65  -5    60  ...  267      8     9   76   \n",
       "9     2015   79    45    78  -6    18  ...  282     47     3   84   \n",
       "10    2015  158    45    48  -6     9  ...  295     34     3   73   \n",
       "11    2015  158    45    48  -6     9  ...  295     34     3   73   \n",
       "12    2017   96    65    83  -3     9  ...  234     58     8   87   \n",
       "13    2017  186    59    68  -7    14  ...  230     14    28   85   \n",
       "14    2017  134    56    85  -5     9  ...  207      1     4   83   \n",
       "15    2017  107    80    82  -4    15  ...  226      3     8   69   \n",
       "16    2017  107    80    82  -4    15  ...  226      3     8   69   \n",
       "17    2017  107    80    82  -4    15  ...  226      3     8   69   \n",
       "18    2018   86    59    47  -6    13  ...  196      3     3   76   \n",
       "19    2019  158    62    72  -3    12  ...  173     11    11   90   \n",
       "20    2019  158    62    72  -3    12  ...  173     11    11   90   \n",
       "21    2019  138    73    84  -5    11  ...  181      4     6   86   \n",
       "\n",
       "                         song_artist year_y  \\\n",
       "0              bad romance lady gaga   2010   \n",
       "1              bad romance lady gaga   2010   \n",
       "2    just the way you are bruno mars   2010   \n",
       "3    just the way you are bruno mars   2010   \n",
       "4   only girl (in the world) rihanna   2010   \n",
       "5             someone like you adele   2011   \n",
       "6          rolling in the deep adele   2011   \n",
       "7          rolling in the deep adele   2011   \n",
       "8                love on top beyoncé   2012   \n",
       "9       thinking out loud ed sheeran   2015   \n",
       "10                       hello adele   2016   \n",
       "11                       hello adele   2016   \n",
       "12           shape of you ed sheeran   2017   \n",
       "13                starboy the weeknd   2017   \n",
       "14     that's what i like bruno mars   2017   \n",
       "15              24k magic bruno mars   2017   \n",
       "16              24k magic bruno mars   2017   \n",
       "17              24k magic bruno mars   2017   \n",
       "18                tequila dan + shay   2018   \n",
       "19                 truth hurts lizzo   2019   \n",
       "20                 truth hurts lizzo   2019   \n",
       "21             sucker jonas brothers   2019   \n",
       "\n",
       "                              category                   nominee  \\\n",
       "0    Best Female Pop Vocal Performance               Bad Romance   \n",
       "1          Best Short Form Music Video               Bad Romance   \n",
       "2      Best Male Pop Vocal Performance      Just The Way You Are   \n",
       "3      Best Male Pop Vocal Performance      Just The Way You Are   \n",
       "4                 Best Dance Recording  Only Girl (In The World)   \n",
       "5            Best Pop Solo Performance          Someone Like You   \n",
       "6                   Record Of The Year       Rolling In The Deep   \n",
       "7          Best Short Form Music Video       Rolling In The Deep   \n",
       "8     Best Traditional R&B Performance               Love On Top   \n",
       "9            Best Pop Solo Performance         Thinking Out Loud   \n",
       "10                  Record Of The Year                     Hello   \n",
       "11           Best Pop Solo Performance                     Hello   \n",
       "12           Best Pop Solo Performance              Shape Of You   \n",
       "13       Best Urban Contemporary Album                   Starboy   \n",
       "14                Best R&B Performance        That's What I Like   \n",
       "15                  Record Of The Year                 24K Magic   \n",
       "16                   Album Of The Year                 24K Magic   \n",
       "17                      Best R&B Album                 24K Magic   \n",
       "18  Best Country Duo/Group Performance                   Tequila   \n",
       "19                  Record Of The Year               Truth Hurts   \n",
       "20           Best Pop Solo Performance               Truth Hurts   \n",
       "21      Best Pop Duo/Group Performance                    Sucker   \n",
       "\n",
       "          artist_y                                            workers  \n",
       "0        Lady Gaga                                                NaN  \n",
       "1        Lady Gaga  Francis Lawrence, video director; Kathy Angsta...  \n",
       "2       Bruno Mars                                                NaN  \n",
       "3       Bruno Mars                                                NaN  \n",
       "4          Rihanna  Kuk Harrell, Stargate (Mikkel Eriksen & Tor He...  \n",
       "5            Adele                                                NaN  \n",
       "6            Adele  Paul Epworth, producer; Tom Elmhirst & Mark Ra...  \n",
       "7            Adele  Sam Brown, video director; Hannah Chandler, vi...  \n",
       "8          Beyoncé                                                NaN  \n",
       "9       Ed Sheeran                                                NaN  \n",
       "10           Adele  Greg Kurstin, producer; Julian Burg, Tom Elmhi...  \n",
       "11           Adele                                                NaN  \n",
       "12      Ed Sheeran                                                NaN  \n",
       "13      The Weeknd  Circut, Doc McKinney & The Weeknd, producers; ...  \n",
       "14      Bruno Mars                                                NaN  \n",
       "15      Bruno Mars  Shampoo Press & Curl (Christopher Brody Brown,...  \n",
       "16      Bruno Mars  Shampoo Press & Curl (Christopher Brody Brown,...  \n",
       "17      Bruno Mars  Shampoo Press & Curl, producers; Serban Ghenea...  \n",
       "18      Dan + Shay                                                NaN  \n",
       "19           Lizzo  Ricky Reed & Tele, producers; Chris Galland, M...  \n",
       "20           Lizzo                                                NaN  \n",
       "21  Jonas Brothers                                                NaN  \n",
       "\n",
       "[22 rows x 21 columns]"
      ],
      "text/html": "<div>\n<style scoped>\n    .dataframe tbody tr th:only-of-type {\n        vertical-align: middle;\n    }\n\n    .dataframe tbody tr th {\n        vertical-align: top;\n    }\n\n    .dataframe thead th {\n        text-align: right;\n    }\n</style>\n<table border=\"1\" class=\"dataframe\">\n  <thead>\n    <tr style=\"text-align: right;\">\n      <th></th>\n      <th>id</th>\n      <th>title</th>\n      <th>artist_x</th>\n      <th>top_genre</th>\n      <th>year_x</th>\n      <th>bpm</th>\n      <th>nrgy</th>\n      <th>dnce</th>\n      <th>db</th>\n      <th>live</th>\n      <th>...</th>\n      <th>dur</th>\n      <th>acous</th>\n      <th>spch</th>\n      <th>pop</th>\n      <th>song_artist</th>\n      <th>year_y</th>\n      <th>category</th>\n      <th>nominee</th>\n      <th>artist_y</th>\n      <th>workers</th>\n    </tr>\n  </thead>\n  <tbody>\n    <tr>\n      <th>0</th>\n      <td>4</td>\n      <td>Bad Romance</td>\n      <td>Lady Gaga</td>\n      <td>dance pop</td>\n      <td>2010</td>\n      <td>119</td>\n      <td>92</td>\n      <td>70</td>\n      <td>-4</td>\n      <td>8</td>\n      <td>...</td>\n      <td>295</td>\n      <td>0</td>\n      <td>4</td>\n      <td>79</td>\n      <td>bad romance lady gaga</td>\n      <td>2010</td>\n      <td>Best Female Pop Vocal Performance</td>\n      <td>Bad Romance</td>\n      <td>Lady Gaga</td>\n      <td>NaN</td>\n    </tr>\n    <tr>\n      <th>1</th>\n      <td>4</td>\n      <td>Bad Romance</td>\n      <td>Lady Gaga</td>\n      <td>dance pop</td>\n      <td>2010</td>\n      <td>119</td>\n      <td>92</td>\n      <td>70</td>\n      <td>-4</td>\n      <td>8</td>\n      <td>...</td>\n      <td>295</td>\n      <td>0</td>\n      <td>4</td>\n      <td>79</td>\n      <td>bad romance lady gaga</td>\n      <td>2010</td>\n      <td>Best Short Form Music Video</td>\n      <td>Bad Romance</td>\n      <td>Lady Gaga</td>\n      <td>Francis Lawrence, video director; Kathy Angsta...</td>\n    </tr>\n    <tr>\n      <th>2</th>\n      <td>5</td>\n      <td>Just the Way You Are</td>\n      <td>Bruno Mars</td>\n      <td>pop</td>\n      <td>2010</td>\n      <td>109</td>\n      <td>84</td>\n      <td>64</td>\n      <td>-5</td>\n      <td>9</td>\n      <td>...</td>\n      <td>221</td>\n      <td>2</td>\n      <td>4</td>\n      <td>78</td>\n      <td>just the way you are bruno mars</td>\n      <td>2010</td>\n      <td>Best Male Pop Vocal Performance</td>\n      <td>Just The Way You Are</td>\n      <td>Bruno Mars</td>\n      <td>NaN</td>\n    </tr>\n    <tr>\n      <th>3</th>\n      <td>55</td>\n      <td>Just the Way You Are</td>\n      <td>Bruno Mars</td>\n      <td>pop</td>\n      <td>2011</td>\n      <td>109</td>\n      <td>84</td>\n      <td>64</td>\n      <td>-5</td>\n      <td>9</td>\n      <td>...</td>\n      <td>221</td>\n      <td>2</td>\n      <td>4</td>\n      <td>78</td>\n      <td>just the way you are bruno mars</td>\n      <td>2010</td>\n      <td>Best Male Pop Vocal Performance</td>\n      <td>Just The Way You Are</td>\n      <td>Bruno Mars</td>\n      <td>NaN</td>\n    </tr>\n    <tr>\n      <th>4</th>\n      <td>10</td>\n      <td>Only Girl (In The World)</td>\n      <td>Rihanna</td>\n      <td>barbadian pop</td>\n      <td>2010</td>\n      <td>126</td>\n      <td>72</td>\n      <td>79</td>\n      <td>-4</td>\n      <td>7</td>\n      <td>...</td>\n      <td>235</td>\n      <td>13</td>\n      <td>4</td>\n      <td>73</td>\n      <td>only girl (in the world) rihanna</td>\n      <td>2010</td>\n      <td>Best Dance Recording</td>\n      <td>Only Girl (In The World)</td>\n      <td>Rihanna</td>\n      <td>Kuk Harrell, Stargate (Mikkel Eriksen &amp; Tor He...</td>\n    </tr>\n    <tr>\n      <th>5</th>\n      <td>53</td>\n      <td>Someone Like You</td>\n      <td>Adele</td>\n      <td>british soul</td>\n      <td>2011</td>\n      <td>135</td>\n      <td>33</td>\n      <td>56</td>\n      <td>-8</td>\n      <td>10</td>\n      <td>...</td>\n      <td>285</td>\n      <td>89</td>\n      <td>3</td>\n      <td>80</td>\n      <td>someone like you adele</td>\n      <td>2011</td>\n      <td>Best Pop Solo Performance</td>\n      <td>Someone Like You</td>\n      <td>Adele</td>\n      <td>NaN</td>\n    </tr>\n    <tr>\n      <th>6</th>\n      <td>56</td>\n      <td>Rolling in the Deep</td>\n      <td>Adele</td>\n      <td>british soul</td>\n      <td>2011</td>\n      <td>105</td>\n      <td>76</td>\n      <td>73</td>\n      <td>-5</td>\n      <td>5</td>\n      <td>...</td>\n      <td>228</td>\n      <td>13</td>\n      <td>3</td>\n      <td>76</td>\n      <td>rolling in the deep adele</td>\n      <td>2011</td>\n      <td>Record Of The Year</td>\n      <td>Rolling In The Deep</td>\n      <td>Adele</td>\n      <td>Paul Epworth, producer; Tom Elmhirst &amp; Mark Ra...</td>\n    </tr>\n    <tr>\n      <th>7</th>\n      <td>56</td>\n      <td>Rolling in the Deep</td>\n      <td>Adele</td>\n      <td>british soul</td>\n      <td>2011</td>\n      <td>105</td>\n      <td>76</td>\n      <td>73</td>\n      <td>-5</td>\n      <td>5</td>\n      <td>...</td>\n      <td>228</td>\n      <td>13</td>\n      <td>3</td>\n      <td>76</td>\n      <td>rolling in the deep adele</td>\n      <td>2011</td>\n      <td>Best Short Form Music Video</td>\n      <td>Rolling In The Deep</td>\n      <td>Adele</td>\n      <td>Sam Brown, video director; Hannah Chandler, vi...</td>\n    </tr>\n    <tr>\n      <th>8</th>\n      <td>59</td>\n      <td>Love On Top</td>\n      <td>Beyoncé</td>\n      <td>dance pop</td>\n      <td>2011</td>\n      <td>94</td>\n      <td>75</td>\n      <td>65</td>\n      <td>-5</td>\n      <td>60</td>\n      <td>...</td>\n      <td>267</td>\n      <td>8</td>\n      <td>9</td>\n      <td>76</td>\n      <td>love on top beyoncé</td>\n      <td>2012</td>\n      <td>Best Traditional R&amp;B Performance</td>\n      <td>Love On Top</td>\n      <td>Beyoncé</td>\n      <td>NaN</td>\n    </tr>\n    <tr>\n      <th>9</th>\n      <td>269</td>\n      <td>Thinking out Loud</td>\n      <td>Ed Sheeran</td>\n      <td>pop</td>\n      <td>2015</td>\n      <td>79</td>\n      <td>45</td>\n      <td>78</td>\n      <td>-6</td>\n      <td>18</td>\n      <td>...</td>\n      <td>282</td>\n      <td>47</td>\n      <td>3</td>\n      <td>84</td>\n      <td>thinking out loud ed sheeran</td>\n      <td>2015</td>\n      <td>Best Pop Solo Performance</td>\n      <td>Thinking Out Loud</td>\n      <td>Ed Sheeran</td>\n      <td>NaN</td>\n    </tr>\n    <tr>\n      <th>10</th>\n      <td>296</td>\n      <td>Hello</td>\n      <td>Adele</td>\n      <td>british soul</td>\n      <td>2015</td>\n      <td>158</td>\n      <td>45</td>\n      <td>48</td>\n      <td>-6</td>\n      <td>9</td>\n      <td>...</td>\n      <td>295</td>\n      <td>34</td>\n      <td>3</td>\n      <td>73</td>\n      <td>hello adele</td>\n      <td>2016</td>\n      <td>Record Of The Year</td>\n      <td>Hello</td>\n      <td>Adele</td>\n      <td>Greg Kurstin, producer; Julian Burg, Tom Elmhi...</td>\n    </tr>\n    <tr>\n      <th>11</th>\n      <td>296</td>\n      <td>Hello</td>\n      <td>Adele</td>\n      <td>british soul</td>\n      <td>2015</td>\n      <td>158</td>\n      <td>45</td>\n      <td>48</td>\n      <td>-6</td>\n      <td>9</td>\n      <td>...</td>\n      <td>295</td>\n      <td>34</td>\n      <td>3</td>\n      <td>73</td>\n      <td>hello adele</td>\n      <td>2016</td>\n      <td>Best Pop Solo Performance</td>\n      <td>Hello</td>\n      <td>Adele</td>\n      <td>NaN</td>\n    </tr>\n    <tr>\n      <th>12</th>\n      <td>444</td>\n      <td>Shape of You</td>\n      <td>Ed Sheeran</td>\n      <td>pop</td>\n      <td>2017</td>\n      <td>96</td>\n      <td>65</td>\n      <td>83</td>\n      <td>-3</td>\n      <td>9</td>\n      <td>...</td>\n      <td>234</td>\n      <td>58</td>\n      <td>8</td>\n      <td>87</td>\n      <td>shape of you ed sheeran</td>\n      <td>2017</td>\n      <td>Best Pop Solo Performance</td>\n      <td>Shape Of You</td>\n      <td>Ed Sheeran</td>\n      <td>NaN</td>\n    </tr>\n    <tr>\n      <th>13</th>\n      <td>446</td>\n      <td>Starboy</td>\n      <td>The Weeknd</td>\n      <td>canadian contemporary r&amp;b</td>\n      <td>2017</td>\n      <td>186</td>\n      <td>59</td>\n      <td>68</td>\n      <td>-7</td>\n      <td>14</td>\n      <td>...</td>\n      <td>230</td>\n      <td>14</td>\n      <td>28</td>\n      <td>85</td>\n      <td>starboy the weeknd</td>\n      <td>2017</td>\n      <td>Best Urban Contemporary Album</td>\n      <td>Starboy</td>\n      <td>The Weeknd</td>\n      <td>Circut, Doc McKinney &amp; The Weeknd, producers; ...</td>\n    </tr>\n    <tr>\n      <th>14</th>\n      <td>448</td>\n      <td>That's What I Like</td>\n      <td>Bruno Mars</td>\n      <td>pop</td>\n      <td>2017</td>\n      <td>134</td>\n      <td>56</td>\n      <td>85</td>\n      <td>-5</td>\n      <td>9</td>\n      <td>...</td>\n      <td>207</td>\n      <td>1</td>\n      <td>4</td>\n      <td>83</td>\n      <td>that's what i like bruno mars</td>\n      <td>2017</td>\n      <td>Best R&amp;B Performance</td>\n      <td>That's What I Like</td>\n      <td>Bruno Mars</td>\n      <td>NaN</td>\n    </tr>\n    <tr>\n      <th>15</th>\n      <td>482</td>\n      <td>24K Magic</td>\n      <td>Bruno Mars</td>\n      <td>pop</td>\n      <td>2017</td>\n      <td>107</td>\n      <td>80</td>\n      <td>82</td>\n      <td>-4</td>\n      <td>15</td>\n      <td>...</td>\n      <td>226</td>\n      <td>3</td>\n      <td>8</td>\n      <td>69</td>\n      <td>24k magic bruno mars</td>\n      <td>2017</td>\n      <td>Record Of The Year</td>\n      <td>24K Magic</td>\n      <td>Bruno Mars</td>\n      <td>Shampoo Press &amp; Curl (Christopher Brody Brown,...</td>\n    </tr>\n    <tr>\n      <th>16</th>\n      <td>482</td>\n      <td>24K Magic</td>\n      <td>Bruno Mars</td>\n      <td>pop</td>\n      <td>2017</td>\n      <td>107</td>\n      <td>80</td>\n      <td>82</td>\n      <td>-4</td>\n      <td>15</td>\n      <td>...</td>\n      <td>226</td>\n      <td>3</td>\n      <td>8</td>\n      <td>69</td>\n      <td>24k magic bruno mars</td>\n      <td>2017</td>\n      <td>Album Of The Year</td>\n      <td>24K Magic</td>\n      <td>Bruno Mars</td>\n      <td>Shampoo Press &amp; Curl (Christopher Brody Brown,...</td>\n    </tr>\n    <tr>\n      <th>17</th>\n      <td>482</td>\n      <td>24K Magic</td>\n      <td>Bruno Mars</td>\n      <td>pop</td>\n      <td>2017</td>\n      <td>107</td>\n      <td>80</td>\n      <td>82</td>\n      <td>-4</td>\n      <td>15</td>\n      <td>...</td>\n      <td>226</td>\n      <td>3</td>\n      <td>8</td>\n      <td>69</td>\n      <td>24k magic bruno mars</td>\n      <td>2017</td>\n      <td>Best R&amp;B Album</td>\n      <td>24K Magic</td>\n      <td>Bruno Mars</td>\n      <td>Shampoo Press &amp; Curl, producers; Serban Ghenea...</td>\n    </tr>\n    <tr>\n      <th>18</th>\n      <td>537</td>\n      <td>Tequila</td>\n      <td>Dan + Shay</td>\n      <td>contemporary country</td>\n      <td>2018</td>\n      <td>86</td>\n      <td>59</td>\n      <td>47</td>\n      <td>-6</td>\n      <td>13</td>\n      <td>...</td>\n      <td>196</td>\n      <td>3</td>\n      <td>3</td>\n      <td>76</td>\n      <td>tequila dan + shay</td>\n      <td>2018</td>\n      <td>Best Country Duo/Group Performance</td>\n      <td>Tequila</td>\n      <td>Dan + Shay</td>\n      <td>NaN</td>\n    </tr>\n    <tr>\n      <th>19</th>\n      <td>581</td>\n      <td>Truth Hurts</td>\n      <td>Lizzo</td>\n      <td>escape room</td>\n      <td>2019</td>\n      <td>158</td>\n      <td>62</td>\n      <td>72</td>\n      <td>-3</td>\n      <td>12</td>\n      <td>...</td>\n      <td>173</td>\n      <td>11</td>\n      <td>11</td>\n      <td>90</td>\n      <td>truth hurts lizzo</td>\n      <td>2019</td>\n      <td>Record Of The Year</td>\n      <td>Truth Hurts</td>\n      <td>Lizzo</td>\n      <td>Ricky Reed &amp; Tele, producers; Chris Galland, M...</td>\n    </tr>\n    <tr>\n      <th>20</th>\n      <td>581</td>\n      <td>Truth Hurts</td>\n      <td>Lizzo</td>\n      <td>escape room</td>\n      <td>2019</td>\n      <td>158</td>\n      <td>62</td>\n      <td>72</td>\n      <td>-3</td>\n      <td>12</td>\n      <td>...</td>\n      <td>173</td>\n      <td>11</td>\n      <td>11</td>\n      <td>90</td>\n      <td>truth hurts lizzo</td>\n      <td>2019</td>\n      <td>Best Pop Solo Performance</td>\n      <td>Truth Hurts</td>\n      <td>Lizzo</td>\n      <td>NaN</td>\n    </tr>\n    <tr>\n      <th>21</th>\n      <td>586</td>\n      <td>Sucker</td>\n      <td>Jonas Brothers</td>\n      <td>boy band</td>\n      <td>2019</td>\n      <td>138</td>\n      <td>73</td>\n      <td>84</td>\n      <td>-5</td>\n      <td>11</td>\n      <td>...</td>\n      <td>181</td>\n      <td>4</td>\n      <td>6</td>\n      <td>86</td>\n      <td>sucker jonas brothers</td>\n      <td>2019</td>\n      <td>Best Pop Duo/Group Performance</td>\n      <td>Sucker</td>\n      <td>Jonas Brothers</td>\n      <td>NaN</td>\n    </tr>\n  </tbody>\n</table>\n<p>22 rows × 21 columns</p>\n</div>"
     },
     "metadata": {},
     "execution_count": 29
    }
   ],
   "source": [
    "spottygrammy = pd.merge(spotify_df, grammy, how ='inner', on ='song_artist')\n",
    "spottygrammy"
   ]
  },
  {
   "cell_type": "code",
   "execution_count": 34,
   "metadata": {},
   "outputs": [
    {
     "output_type": "execute_result",
     "data": {
      "text/plain": [
       "   id  year_x  bpm                       song_artist  \\\n",
       "0   4    2010  119             bad romance lady gaga   \n",
       "1   4    2010  119             bad romance lady gaga   \n",
       "2   5    2010  109   just the way you are bruno mars   \n",
       "3  55    2011  109   just the way you are bruno mars   \n",
       "4  10    2010  126  only girl (in the world) rihanna   \n",
       "\n",
       "                            category  \\\n",
       "0  Best Female Pop Vocal Performance   \n",
       "1        Best Short Form Music Video   \n",
       "2    Best Male Pop Vocal Performance   \n",
       "3    Best Male Pop Vocal Performance   \n",
       "4               Best Dance Recording   \n",
       "\n",
       "                                             workers  \n",
       "0                                                NaN  \n",
       "1  Francis Lawrence, video director; Kathy Angsta...  \n",
       "2                                                NaN  \n",
       "3                                                NaN  \n",
       "4  Kuk Harrell, Stargate (Mikkel Eriksen & Tor He...  "
      ],
      "text/html": "<div>\n<style scoped>\n    .dataframe tbody tr th:only-of-type {\n        vertical-align: middle;\n    }\n\n    .dataframe tbody tr th {\n        vertical-align: top;\n    }\n\n    .dataframe thead th {\n        text-align: right;\n    }\n</style>\n<table border=\"1\" class=\"dataframe\">\n  <thead>\n    <tr style=\"text-align: right;\">\n      <th></th>\n      <th>id</th>\n      <th>year_x</th>\n      <th>bpm</th>\n      <th>song_artist</th>\n      <th>category</th>\n      <th>workers</th>\n    </tr>\n  </thead>\n  <tbody>\n    <tr>\n      <th>0</th>\n      <td>4</td>\n      <td>2010</td>\n      <td>119</td>\n      <td>bad romance lady gaga</td>\n      <td>Best Female Pop Vocal Performance</td>\n      <td>NaN</td>\n    </tr>\n    <tr>\n      <th>1</th>\n      <td>4</td>\n      <td>2010</td>\n      <td>119</td>\n      <td>bad romance lady gaga</td>\n      <td>Best Short Form Music Video</td>\n      <td>Francis Lawrence, video director; Kathy Angsta...</td>\n    </tr>\n    <tr>\n      <th>2</th>\n      <td>5</td>\n      <td>2010</td>\n      <td>109</td>\n      <td>just the way you are bruno mars</td>\n      <td>Best Male Pop Vocal Performance</td>\n      <td>NaN</td>\n    </tr>\n    <tr>\n      <th>3</th>\n      <td>55</td>\n      <td>2011</td>\n      <td>109</td>\n      <td>just the way you are bruno mars</td>\n      <td>Best Male Pop Vocal Performance</td>\n      <td>NaN</td>\n    </tr>\n    <tr>\n      <th>4</th>\n      <td>10</td>\n      <td>2010</td>\n      <td>126</td>\n      <td>only girl (in the world) rihanna</td>\n      <td>Best Dance Recording</td>\n      <td>Kuk Harrell, Stargate (Mikkel Eriksen &amp; Tor He...</td>\n    </tr>\n  </tbody>\n</table>\n</div>"
     },
     "metadata": {},
     "execution_count": 34
    }
   ],
   "source": [
    "spottygrammy = spottygrammy.loc[:,[\"id\",\"year_x\",\"bpm\",\"song_artist\",\"category\",\"workers\"]]\n",
    "spottygrammy.head()"
   ]
  },
  {
   "cell_type": "code",
   "execution_count": 36,
   "metadata": {},
   "outputs": [
    {
     "output_type": "execute_result",
     "data": {
      "text/plain": [
       "     id  year  bpm                       song_artist  \\\n",
       "0     4  2010  119             bad romance lady gaga   \n",
       "1     4  2010  119             bad romance lady gaga   \n",
       "2     5  2010  109   just the way you are bruno mars   \n",
       "3    55  2011  109   just the way you are bruno mars   \n",
       "4    10  2010  126  only girl (in the world) rihanna   \n",
       "5    53  2011  135            someone like you adele   \n",
       "6    56  2011  105         rolling in the deep adele   \n",
       "7    56  2011  105         rolling in the deep adele   \n",
       "8    59  2011   94               love on top beyoncé   \n",
       "9   269  2015   79      thinking out loud ed sheeran   \n",
       "10  296  2015  158                       hello adele   \n",
       "11  296  2015  158                       hello adele   \n",
       "12  444  2017   96           shape of you ed sheeran   \n",
       "13  446  2017  186                starboy the weeknd   \n",
       "14  448  2017  134     that's what i like bruno mars   \n",
       "15  482  2017  107              24k magic bruno mars   \n",
       "16  482  2017  107              24k magic bruno mars   \n",
       "17  482  2017  107              24k magic bruno mars   \n",
       "18  537  2018   86                tequila dan + shay   \n",
       "19  581  2019  158                 truth hurts lizzo   \n",
       "20  581  2019  158                 truth hurts lizzo   \n",
       "21  586  2019  138             sucker jonas brothers   \n",
       "\n",
       "                              category  \\\n",
       "0    Best Female Pop Vocal Performance   \n",
       "1          Best Short Form Music Video   \n",
       "2      Best Male Pop Vocal Performance   \n",
       "3      Best Male Pop Vocal Performance   \n",
       "4                 Best Dance Recording   \n",
       "5            Best Pop Solo Performance   \n",
       "6                   Record Of The Year   \n",
       "7          Best Short Form Music Video   \n",
       "8     Best Traditional R&B Performance   \n",
       "9            Best Pop Solo Performance   \n",
       "10                  Record Of The Year   \n",
       "11           Best Pop Solo Performance   \n",
       "12           Best Pop Solo Performance   \n",
       "13       Best Urban Contemporary Album   \n",
       "14                Best R&B Performance   \n",
       "15                  Record Of The Year   \n",
       "16                   Album Of The Year   \n",
       "17                      Best R&B Album   \n",
       "18  Best Country Duo/Group Performance   \n",
       "19                  Record Of The Year   \n",
       "20           Best Pop Solo Performance   \n",
       "21      Best Pop Duo/Group Performance   \n",
       "\n",
       "                                              workers  \n",
       "0                                                 NaN  \n",
       "1   Francis Lawrence, video director; Kathy Angsta...  \n",
       "2                                                 NaN  \n",
       "3                                                 NaN  \n",
       "4   Kuk Harrell, Stargate (Mikkel Eriksen & Tor He...  \n",
       "5                                                 NaN  \n",
       "6   Paul Epworth, producer; Tom Elmhirst & Mark Ra...  \n",
       "7   Sam Brown, video director; Hannah Chandler, vi...  \n",
       "8                                                 NaN  \n",
       "9                                                 NaN  \n",
       "10  Greg Kurstin, producer; Julian Burg, Tom Elmhi...  \n",
       "11                                                NaN  \n",
       "12                                                NaN  \n",
       "13  Circut, Doc McKinney & The Weeknd, producers; ...  \n",
       "14                                                NaN  \n",
       "15  Shampoo Press & Curl (Christopher Brody Brown,...  \n",
       "16  Shampoo Press & Curl (Christopher Brody Brown,...  \n",
       "17  Shampoo Press & Curl, producers; Serban Ghenea...  \n",
       "18                                                NaN  \n",
       "19  Ricky Reed & Tele, producers; Chris Galland, M...  \n",
       "20                                                NaN  \n",
       "21                                                NaN  "
      ],
      "text/html": "<div>\n<style scoped>\n    .dataframe tbody tr th:only-of-type {\n        vertical-align: middle;\n    }\n\n    .dataframe tbody tr th {\n        vertical-align: top;\n    }\n\n    .dataframe thead th {\n        text-align: right;\n    }\n</style>\n<table border=\"1\" class=\"dataframe\">\n  <thead>\n    <tr style=\"text-align: right;\">\n      <th></th>\n      <th>id</th>\n      <th>year</th>\n      <th>bpm</th>\n      <th>song_artist</th>\n      <th>category</th>\n      <th>workers</th>\n    </tr>\n  </thead>\n  <tbody>\n    <tr>\n      <th>0</th>\n      <td>4</td>\n      <td>2010</td>\n      <td>119</td>\n      <td>bad romance lady gaga</td>\n      <td>Best Female Pop Vocal Performance</td>\n      <td>NaN</td>\n    </tr>\n    <tr>\n      <th>1</th>\n      <td>4</td>\n      <td>2010</td>\n      <td>119</td>\n      <td>bad romance lady gaga</td>\n      <td>Best Short Form Music Video</td>\n      <td>Francis Lawrence, video director; Kathy Angsta...</td>\n    </tr>\n    <tr>\n      <th>2</th>\n      <td>5</td>\n      <td>2010</td>\n      <td>109</td>\n      <td>just the way you are bruno mars</td>\n      <td>Best Male Pop Vocal Performance</td>\n      <td>NaN</td>\n    </tr>\n    <tr>\n      <th>3</th>\n      <td>55</td>\n      <td>2011</td>\n      <td>109</td>\n      <td>just the way you are bruno mars</td>\n      <td>Best Male Pop Vocal Performance</td>\n      <td>NaN</td>\n    </tr>\n    <tr>\n      <th>4</th>\n      <td>10</td>\n      <td>2010</td>\n      <td>126</td>\n      <td>only girl (in the world) rihanna</td>\n      <td>Best Dance Recording</td>\n      <td>Kuk Harrell, Stargate (Mikkel Eriksen &amp; Tor He...</td>\n    </tr>\n    <tr>\n      <th>5</th>\n      <td>53</td>\n      <td>2011</td>\n      <td>135</td>\n      <td>someone like you adele</td>\n      <td>Best Pop Solo Performance</td>\n      <td>NaN</td>\n    </tr>\n    <tr>\n      <th>6</th>\n      <td>56</td>\n      <td>2011</td>\n      <td>105</td>\n      <td>rolling in the deep adele</td>\n      <td>Record Of The Year</td>\n      <td>Paul Epworth, producer; Tom Elmhirst &amp; Mark Ra...</td>\n    </tr>\n    <tr>\n      <th>7</th>\n      <td>56</td>\n      <td>2011</td>\n      <td>105</td>\n      <td>rolling in the deep adele</td>\n      <td>Best Short Form Music Video</td>\n      <td>Sam Brown, video director; Hannah Chandler, vi...</td>\n    </tr>\n    <tr>\n      <th>8</th>\n      <td>59</td>\n      <td>2011</td>\n      <td>94</td>\n      <td>love on top beyoncé</td>\n      <td>Best Traditional R&amp;B Performance</td>\n      <td>NaN</td>\n    </tr>\n    <tr>\n      <th>9</th>\n      <td>269</td>\n      <td>2015</td>\n      <td>79</td>\n      <td>thinking out loud ed sheeran</td>\n      <td>Best Pop Solo Performance</td>\n      <td>NaN</td>\n    </tr>\n    <tr>\n      <th>10</th>\n      <td>296</td>\n      <td>2015</td>\n      <td>158</td>\n      <td>hello adele</td>\n      <td>Record Of The Year</td>\n      <td>Greg Kurstin, producer; Julian Burg, Tom Elmhi...</td>\n    </tr>\n    <tr>\n      <th>11</th>\n      <td>296</td>\n      <td>2015</td>\n      <td>158</td>\n      <td>hello adele</td>\n      <td>Best Pop Solo Performance</td>\n      <td>NaN</td>\n    </tr>\n    <tr>\n      <th>12</th>\n      <td>444</td>\n      <td>2017</td>\n      <td>96</td>\n      <td>shape of you ed sheeran</td>\n      <td>Best Pop Solo Performance</td>\n      <td>NaN</td>\n    </tr>\n    <tr>\n      <th>13</th>\n      <td>446</td>\n      <td>2017</td>\n      <td>186</td>\n      <td>starboy the weeknd</td>\n      <td>Best Urban Contemporary Album</td>\n      <td>Circut, Doc McKinney &amp; The Weeknd, producers; ...</td>\n    </tr>\n    <tr>\n      <th>14</th>\n      <td>448</td>\n      <td>2017</td>\n      <td>134</td>\n      <td>that's what i like bruno mars</td>\n      <td>Best R&amp;B Performance</td>\n      <td>NaN</td>\n    </tr>\n    <tr>\n      <th>15</th>\n      <td>482</td>\n      <td>2017</td>\n      <td>107</td>\n      <td>24k magic bruno mars</td>\n      <td>Record Of The Year</td>\n      <td>Shampoo Press &amp; Curl (Christopher Brody Brown,...</td>\n    </tr>\n    <tr>\n      <th>16</th>\n      <td>482</td>\n      <td>2017</td>\n      <td>107</td>\n      <td>24k magic bruno mars</td>\n      <td>Album Of The Year</td>\n      <td>Shampoo Press &amp; Curl (Christopher Brody Brown,...</td>\n    </tr>\n    <tr>\n      <th>17</th>\n      <td>482</td>\n      <td>2017</td>\n      <td>107</td>\n      <td>24k magic bruno mars</td>\n      <td>Best R&amp;B Album</td>\n      <td>Shampoo Press &amp; Curl, producers; Serban Ghenea...</td>\n    </tr>\n    <tr>\n      <th>18</th>\n      <td>537</td>\n      <td>2018</td>\n      <td>86</td>\n      <td>tequila dan + shay</td>\n      <td>Best Country Duo/Group Performance</td>\n      <td>NaN</td>\n    </tr>\n    <tr>\n      <th>19</th>\n      <td>581</td>\n      <td>2019</td>\n      <td>158</td>\n      <td>truth hurts lizzo</td>\n      <td>Record Of The Year</td>\n      <td>Ricky Reed &amp; Tele, producers; Chris Galland, M...</td>\n    </tr>\n    <tr>\n      <th>20</th>\n      <td>581</td>\n      <td>2019</td>\n      <td>158</td>\n      <td>truth hurts lizzo</td>\n      <td>Best Pop Solo Performance</td>\n      <td>NaN</td>\n    </tr>\n    <tr>\n      <th>21</th>\n      <td>586</td>\n      <td>2019</td>\n      <td>138</td>\n      <td>sucker jonas brothers</td>\n      <td>Best Pop Duo/Group Performance</td>\n      <td>NaN</td>\n    </tr>\n  </tbody>\n</table>\n</div>"
     },
     "metadata": {},
     "execution_count": 36
    }
   ],
   "source": [
    "spottygrammy = spottygrammy.rename(columns={\"year_x\": \"year\"})\n",
    "spottygrammy"
   ]
  },
  {
   "cell_type": "code",
   "execution_count": 37,
   "metadata": {},
   "outputs": [],
   "source": [
    "spottygrammy.to_sql('spottygrammy',engine)"
   ]
  },
  {
   "cell_type": "code",
   "execution_count": 39,
   "metadata": {},
   "outputs": [],
   "source": [
    "grammies.to_sql(\"grammies\",engine)"
   ]
  },
  {
   "cell_type": "code",
   "execution_count": null,
   "metadata": {},
   "outputs": [],
   "source": []
  }
 ],
 "metadata": {
  "kernelspec": {
   "display_name": "Python 3",
   "language": "python",
   "name": "python3"
  },
  "language_info": {
   "codemirror_mode": {
    "name": "ipython",
    "version": 3
   },
   "file_extension": ".py",
   "mimetype": "text/x-python",
   "name": "python",
   "nbconvert_exporter": "python",
   "pygments_lexer": "ipython3",
   "version": "3.6.10-final"
  }
 },
 "nbformat": 4,
 "nbformat_minor": 4
}